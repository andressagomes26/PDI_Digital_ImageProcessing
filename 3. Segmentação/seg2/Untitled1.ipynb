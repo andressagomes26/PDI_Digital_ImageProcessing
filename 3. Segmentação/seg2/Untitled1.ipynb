{
 "cells": [
  {
   "cell_type": "code",
   "execution_count": 86,
   "id": "9b2590b6",
   "metadata": {},
   "outputs": [],
   "source": [
    "def plotImage(image, image_watershed, image_kmeans, image_otsu):\n",
    "    image = cv2.cvtColor(image, cv2.COLOR_BGR2RGB)\n",
    "    #image_watershed = cv2.cvtColor(image_watershed, cv2.COLOR_BGR2RGB)\n",
    "    image_kmeans = cv2.cvtColor(image_kmeans, cv2.COLOR_BGR2RGB)\n",
    "    \n",
    "    plt.figure(figsize=(15,12))\n",
    "    \n",
    "    plt.subplot(1, 5, 1), plt.imshow(image), plt.title(\"Original\")\n",
    "    plt.xticks([]), plt.yticks([])\n",
    "\n",
    "    plt.subplot(1, 5, 2), plt.imshow(image_kmeans), plt.title(\"Crescimento de Regiões\")\n",
    "    plt.xticks([]), plt.yticks([])\n",
    "    \n",
    "    plt.subplot(1, 5, 3), plt.imshow(image_watershed), plt.title(\"Watershed\")\n",
    "    plt.xticks([]), plt.yticks([])\n",
    "    \n",
    "    plt.subplot(1, 5, 4), plt.imshow(image_kmeans), plt.title(\"K-Means\")\n",
    "    plt.xticks([]), plt.yticks([])\n",
    "    \n",
    "    plt.subplot(1, 5, 5), plt.imshow(image_otsu, cmap = \"gray\"), plt.title(\"Otsu\")\n",
    "    plt.xticks([]), plt.yticks([])\n",
    "    plt.show()"
   ]
  }
 ],
 "metadata": {
  "kernelspec": {
   "display_name": "Python 3 (ipykernel)",
   "language": "python",
   "name": "python3"
  },
  "language_info": {
   "codemirror_mode": {
    "name": "ipython",
    "version": 3
   },
   "file_extension": ".py",
   "mimetype": "text/x-python",
   "name": "python",
   "nbconvert_exporter": "python",
   "pygments_lexer": "ipython3",
   "version": "3.9.12"
  }
 },
 "nbformat": 4,
 "nbformat_minor": 5
}
